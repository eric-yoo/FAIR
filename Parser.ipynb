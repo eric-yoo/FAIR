{
 "cells": [
  {
   "cell_type": "code",
   "execution_count": null,
   "id": "cd8a86f5-52e7-43c0-8bca-56841a50b27f",
   "metadata": {
    "tags": []
   },
   "outputs": [],
   "source": [
    "import pandas as pd\n",
    "import numpy as np\n",
    "import matplotlib.pyplot as plt\n",
    "import seaborn as sns"
   ]
  },
  {
   "cell_type": "markdown",
   "id": "c9c7d75f-1010-48e8-8272-7d154c44f620",
   "metadata": {},
   "source": [
    "# Model definitions"
   ]
  },
  {
   "cell_type": "code",
   "execution_count": null,
   "id": "2a8e1cad-f7b5-4e8d-917e-015db6ffcf1c",
   "metadata": {},
   "outputs": [],
   "source": [
    "def get_df(mode, polluted_ratio):\n",
    "    acc       = pd.read_csv(f\"test_{mode}_accuracy_p{polluted_ratio}.csv\")\n",
    "    acc_cls   = pd.read_csv(f\"test_{mode}_accuracy_cls_p{polluted_ratio}.csv\")\n",
    "    violation = pd.read_csv(f\"test_{mode}_violation_p{polluted_ratio}.csv\")\n",
    "    \n",
    "    acc[\"mode\"]=mode\n",
    "    acc[\"polluted_ratio\"]=polluted_ratio\n",
    "    \n",
    "    acc_cls[\"mode\"]=mode\n",
    "    acc_cls[\"polluted_ratio\"]=polluted_ratio\n",
    "    \n",
    "    violation[\"mode\"]=mode\n",
    "    violation[\"polluted_ratio\"]=polluted_ratio\n",
    "        \n",
    "    return acc, acc_cls, violation"
   ]
  },
  {
   "cell_type": "code",
   "execution_count": null,
   "id": "ba579981-4ceb-4a2b-a80d-f12e9143eca8",
   "metadata": {},
   "outputs": [],
   "source": [
    "modes=['baseline','ideal','lb','fair_naive','fair']\n",
    "polluted_ratio = 0.3\n",
    "\n",
    "accs       = pd.DataFrame()\n",
    "accs_cls   = pd.DataFrame()\n",
    "violations = pd.DataFrame()\n",
    "\n",
    "for mode in modes :\n",
    "    \n",
    "    acc, acc_cls, violation = get_df(mode,polluted_ratio)\n",
    "\n",
    "    accs       = accs.append(acc)\n",
    "    accs_cls   = accs_cls.append(acc_cls)\n",
    "    violations = violations.append(violation)\n",
    "    \n",
    "accs       = accs.rename(columns={'Unnamed: 0': 'Iteration', '0':'Accuracy'})\n",
    "accs_cls   = accs_cls.rename(columns={'Unnamed: 0': 'Iteration'})\n",
    "violations = violations.rename(columns={'Unnamed: 0': 'Iteration'})\n",
    "\n",
    "accs_cls['Average'] = accs_cls.iloc[:,1:11].mean(axis=1)\n",
    "violations['Average'] = violations.iloc[:,1:11].mean(axis=1)"
   ]
  },
  {
   "cell_type": "code",
   "execution_count": null,
   "id": "e72f787e-eabb-42e3-8ccf-0900727048bf",
   "metadata": {},
   "outputs": [],
   "source": [
    "def plot1(dat):\n",
    "    fig = plt.figure()\n",
    "    \n",
    "    #lb, fair_naive, fair\n",
    "    ax = sns.lineplot(data=dat[dat[\"mode\"].isin([\"lb\",\"fair\",\"fair_naive\"])],x='Iteration', y='Accuracy',hue='mode')\n",
    "    \n",
    "    #baseline\n",
    "    baseline = dat[dat[\"mode\"].isin([\"baseline\"])]['Accuracy'].values[0]\n",
    "    plt.axhline(y=baseline, c=\"y\", linestyle=\"dashed\", label=\"Baseline\")\n",
    "    \n",
    "    #ideal\n",
    "    ideal = dat[dat[\"mode\"].isin([\"ideal\"])]['Accuracy'].values[0]\n",
    "    plt.axhline(y=ideal,c=\"r\",linestyle=\"dashed\", label=\"Ideal\")\n",
    "\n",
    "    labels = [\"Label Bias\", \"FAIR Naive\", \"FAIR\", \"Baseline\", \"Ideal\"]\n",
    "    handles, _ = ax.get_legend_handles_labels()\n",
    "\n",
    "    plt.legend(handles = handles, labels = labels)\n",
    "\n",
    "    plt.show()"
   ]
  },
  {
   "cell_type": "markdown",
   "id": "6c6ed807-e43d-4aa6-9a05-e99aa0656f94",
   "metadata": {},
   "source": [
    "## Accuracy"
   ]
  },
  {
   "cell_type": "code",
   "execution_count": null,
   "id": "881ec054-47f8-4708-bb1a-63d220cd180e",
   "metadata": {},
   "outputs": [],
   "source": [
    "plot1(accs)"
   ]
  },
  {
   "cell_type": "code",
   "execution_count": null,
   "id": "94f69438-7dff-4ab0-911d-82f5bfa5b974",
   "metadata": {},
   "outputs": [],
   "source": [
    "def plot2(dat, num_class=-1):\n",
    "    fig = plt.figure()\n",
    "    \n",
    "    if num_class == -1:\n",
    "        num_class = \"Average\"\n",
    "    else :\n",
    "        num_class = str(num_class)\n",
    "\n",
    "    #lb, fair_naive, fair\n",
    "    ax = sns.lineplot(data=dat[dat[\"mode\"].isin([\"lb\",\"fair\",\"fair_naive\"])], x='Iteration', y=num_class, hue='mode')\n",
    "\n",
    "    #baseline\n",
    "    baseline = dat[dat[\"mode\"].isin([\"baseline\"])][num_class].values[0]\n",
    "#     print(baseline)\n",
    "    plt.axhline(y=baseline,c=\"y\",linestyle=\"dashed\", label=\"Baseline\")\n",
    "    \n",
    "    #ideal\n",
    "    ideal    = dat[dat[\"mode\"].isin([\"ideal\"])][num_class].values[0]\n",
    "#     print(ideal)\n",
    "    plt.axhline(y=ideal, c=\"r\", linestyle=\"dashed\", label=\"Ideal\")\n",
    "\n",
    "    labels = [\"Label Bias\", \"FAIR Naive\", \"FAIR\", \"Baseline\", \"Ideal\"]\n",
    "    handles, _ = ax.get_legend_handles_labels()\n",
    "\n",
    "    plt.legend(handles = handles, labels = labels)\n",
    "\n",
    "    plt.show()"
   ]
  },
  {
   "cell_type": "markdown",
   "id": "f1f37b2d-7d31-419f-bd09-d5d930ea1d7a",
   "metadata": {
    "tags": []
   },
   "source": [
    "## Violation"
   ]
  },
  {
   "cell_type": "code",
   "execution_count": null,
   "id": "0234cdab-d6f1-4b85-af6b-48f8110bebb7",
   "metadata": {},
   "outputs": [],
   "source": [
    "plot2(violations)"
   ]
  },
  {
   "cell_type": "code",
   "execution_count": null,
   "id": "814020f9-7825-48b9-900d-c6211d475c52",
   "metadata": {},
   "outputs": [],
   "source": [
    "plot2(violations,0)"
   ]
  },
  {
   "cell_type": "code",
   "execution_count": null,
   "id": "31b53ef2-927d-40ca-ac12-ed03c387c459",
   "metadata": {},
   "outputs": [],
   "source": [
    "plot2(violations,2)"
   ]
  },
  {
   "cell_type": "markdown",
   "id": "25726f26-c7ec-4791-8b48-df8e820b7982",
   "metadata": {},
   "source": [
    "## Per-class accuracy"
   ]
  },
  {
   "cell_type": "code",
   "execution_count": null,
   "id": "eeddb75b-6533-4058-b6d7-8c6cdd4d38e2",
   "metadata": {},
   "outputs": [],
   "source": [
    "plot2(accs_cls)"
   ]
  }
 ],
 "metadata": {
  "kernelspec": {
   "display_name": "Python 3",
   "language": "python",
   "name": "python3"
  },
  "language_info": {
   "codemirror_mode": {
    "name": "ipython",
    "version": 3
   },
   "file_extension": ".py",
   "mimetype": "text/x-python",
   "name": "python",
   "nbconvert_exporter": "python",
   "pygments_lexer": "ipython3",
   "version": "3.8.5"
  }
 },
 "nbformat": 4,
 "nbformat_minor": 5
}
